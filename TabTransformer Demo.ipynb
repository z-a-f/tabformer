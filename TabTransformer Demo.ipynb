{
 "cells": [
  {
   "cell_type": "code",
   "execution_count": 34,
   "id": "62705e7c-2592-4528-8b97-87c128601005",
   "metadata": {},
   "outputs": [],
   "source": [
    "data_csv = '''\n",
    "page_protocol,page_host,api_protocol,api_host,api_path,api_method,psm,scope,field_name,field_path,field_sample,data_type_name\n",
    "https,market-au.example.com,https,market-au.example.com,/api/v1/product/prohibited/words/check,post,oec.product.product_api,query,browser_language,browser_language,en-US,Language\n",
    "https,market-au.example.com,https,market-au.example.com,/api/v1/product/prohibited/words/check,post,oec.product.product_api,query,browser_language,browser_language,en-US,Language\n",
    "https,market-au.example.com,https,market-au.example.com,/api/v1/product/prohibited/words/check,post,oec.product.product_api,query,browser_language,browser_language,en-US,Language\n",
    "https,market-au.example.com,https,open-api.example.com,/v0/oauth/check_qr,get,abcd.openapi.gateway,query,token,token,abcd_aueast3,Account Setting\n",
    "https,market-au.example.com,https,open-api.example.com,/v0/oauth/check_qr,get,abcd.openapi.gateway,query,token,token,wxyz_aueast3,Account Setting\n",
    "https,market-au.example.com,https,market-au.example.com,/api/v1/product/list/seller/warehouses,get,oec.product.product_api,query,browser_version,browser_version,5.0%20%28Windows%20NT%2010.0%3B%20Win64%3B%20x64%29%20AppleWebKit%2F537.36%20%28KHTML%2C%20like%20Gecko%29%20Chrome%2F120.0.0.0%20Safari%2F537.36,User Agent\n",
    "https,market-au.example.com,https,market-au.example.com,/api/v1/seller/holiday_mode/list,get,oec.seller.profile_api,query,locale,locale,en,Language\n",
    "'''"
   ]
  },
  {
   "cell_type": "code",
   "execution_count": 35,
   "id": "6ff3d2ee-0502-4438-8e3b-3b09a59f1b32",
   "metadata": {},
   "outputs": [
    {
     "name": "stdout",
     "output_type": "stream",
     "text": [
      "<class 'pandas.core.frame.DataFrame'>\n",
      "RangeIndex: 7 entries, 0 to 6\n",
      "Data columns (total 12 columns):\n",
      " #   Column          Non-Null Count  Dtype \n",
      "---  ------          --------------  ----- \n",
      " 0   page_protocol   7 non-null      object\n",
      " 1   page_host       7 non-null      object\n",
      " 2   api_protocol    7 non-null      object\n",
      " 3   api_host        7 non-null      object\n",
      " 4   api_path        7 non-null      object\n",
      " 5   api_method      7 non-null      object\n",
      " 6   psm             7 non-null      object\n",
      " 7   scope           7 non-null      object\n",
      " 8   field_name      7 non-null      object\n",
      " 9   field_path      7 non-null      object\n",
      " 10  field_sample    7 non-null      object\n",
      " 11  data_type_name  7 non-null      object\n",
      "dtypes: object(12)\n",
      "memory usage: 804.0+ bytes\n"
     ]
    }
   ],
   "source": [
    "import pandas as pd\n",
    "from io import StringIO\n",
    "\n",
    "data = pd.read_csv(StringIO(data_csv))\n",
    "target_column = 'data_type_name'\n",
    "feature_columns = data.columns[data.columns != target_column]\n",
    "# target_columns = data.columns[data.columns == target_column]  # In case multiple targets\n",
    "\n",
    "data.info()"
   ]
  },
  {
   "cell_type": "markdown",
   "id": "640285f1-5dfe-4121-9b08-4b46de8c56a2",
   "metadata": {},
   "source": [
    "# Step 1. Collect some info\n",
    "\n",
    "TODO: Remove NaN"
   ]
  },
  {
   "cell_type": "code",
   "execution_count": 88,
   "id": "8a7c4c45-12da-4f9b-a25f-beffafdace86",
   "metadata": {},
   "outputs": [],
   "source": [
    "# Collect the statistics for categorical and numerical columns in X\n",
    "categorical = data[feature_columns].select_dtypes(['category', 'object']).columns\n",
    "\n",
    "# categorical_unique_values = [data[col].unique() for col in categorical]\n",
    "# categorical_num_unique_values = [len(vals) for vals in categorical_unique_values]\n",
    "\n",
    "# Collect statistics for y\n",
    "if data[target_column].dtype in ('object', 'category'):\n",
    "    # Classification\n",
    "    target_unique_values = data[target_column].unique()\n",
    "    output_dimensions = len(target_unique_values)\n",
    "    if output_dimensions == 2:\n",
    "        output_dimensions = 1  # Binary classification can be done with a single output\n",
    "else:\n",
    "    # Regression\n",
    "    output_dimensions = 1\n",
    "\n",
    "data[categorical] = data[categorical].astype('category')"
   ]
  },
  {
   "cell_type": "code",
   "execution_count": 89,
   "id": "f0877b00-1378-4e03-a9ee-01842108a663",
   "metadata": {},
   "outputs": [
    {
     "name": "stderr",
     "output_type": "stream",
     "text": [
      "/tmp/ipykernel_2054799/944709309.py:5: SettingWithCopyWarning: \n",
      "A value is trying to be set on a copy of a slice from a DataFrame.\n",
      "Try using .loc[row_indexer,col_indexer] = value instead\n",
      "\n",
      "See the caveats in the documentation: https://pandas.pydata.org/pandas-docs/stable/user_guide/indexing.html#returning-a-view-versus-a-copy\n",
      "  X[categorical] = X[categorical].apply(lambda column: column.cat.codes)\n"
     ]
    },
    {
     "data": {
      "text/plain": [
       "Index(['market-au.example.com', 'open-api.example.com'], dtype='object')"
      ]
     },
     "execution_count": 89,
     "metadata": {},
     "output_type": "execute_result"
    }
   ],
   "source": [
    "# Create the X, y data\n",
    "X = data[feature_columns]\n",
    "y = data[target_column]\n",
    "\n",
    "X[categorical] = X[categorical].apply(lambda column: column.cat.codes)\n",
    "\n",
    "if \n",
    "\n",
    "data[categorical[3]].cat.categories"
   ]
  },
  {
   "cell_type": "code",
   "execution_count": 82,
   "id": "d15d2902-43ad-4b21-ab13-3b583919dc9d",
   "metadata": {},
   "outputs": [
    {
     "data": {
      "text/html": [
       "<div>\n",
       "<style scoped>\n",
       "    .dataframe tbody tr th:only-of-type {\n",
       "        vertical-align: middle;\n",
       "    }\n",
       "\n",
       "    .dataframe tbody tr th {\n",
       "        vertical-align: top;\n",
       "    }\n",
       "\n",
       "    .dataframe thead th {\n",
       "        text-align: right;\n",
       "    }\n",
       "</style>\n",
       "<table border=\"1\" class=\"dataframe\">\n",
       "  <thead>\n",
       "    <tr style=\"text-align: right;\">\n",
       "      <th></th>\n",
       "      <th>page_protocol</th>\n",
       "      <th>page_host</th>\n",
       "      <th>api_protocol</th>\n",
       "      <th>api_host</th>\n",
       "      <th>api_path</th>\n",
       "      <th>api_method</th>\n",
       "      <th>psm</th>\n",
       "      <th>scope</th>\n",
       "      <th>field_name</th>\n",
       "      <th>field_path</th>\n",
       "      <th>field_sample</th>\n",
       "    </tr>\n",
       "  </thead>\n",
       "  <tbody>\n",
       "    <tr>\n",
       "      <th>0</th>\n",
       "      <td>0</td>\n",
       "      <td>0</td>\n",
       "      <td>0</td>\n",
       "      <td>0</td>\n",
       "      <td>1</td>\n",
       "      <td>1</td>\n",
       "      <td>1</td>\n",
       "      <td>0</td>\n",
       "      <td>0</td>\n",
       "      <td>0</td>\n",
       "      <td>3</td>\n",
       "    </tr>\n",
       "    <tr>\n",
       "      <th>1</th>\n",
       "      <td>0</td>\n",
       "      <td>0</td>\n",
       "      <td>0</td>\n",
       "      <td>0</td>\n",
       "      <td>1</td>\n",
       "      <td>1</td>\n",
       "      <td>1</td>\n",
       "      <td>0</td>\n",
       "      <td>0</td>\n",
       "      <td>0</td>\n",
       "      <td>3</td>\n",
       "    </tr>\n",
       "    <tr>\n",
       "      <th>2</th>\n",
       "      <td>0</td>\n",
       "      <td>0</td>\n",
       "      <td>0</td>\n",
       "      <td>0</td>\n",
       "      <td>1</td>\n",
       "      <td>1</td>\n",
       "      <td>1</td>\n",
       "      <td>0</td>\n",
       "      <td>0</td>\n",
       "      <td>0</td>\n",
       "      <td>3</td>\n",
       "    </tr>\n",
       "    <tr>\n",
       "      <th>3</th>\n",
       "      <td>0</td>\n",
       "      <td>0</td>\n",
       "      <td>0</td>\n",
       "      <td>1</td>\n",
       "      <td>3</td>\n",
       "      <td>0</td>\n",
       "      <td>0</td>\n",
       "      <td>0</td>\n",
       "      <td>3</td>\n",
       "      <td>3</td>\n",
       "      <td>1</td>\n",
       "    </tr>\n",
       "    <tr>\n",
       "      <th>4</th>\n",
       "      <td>0</td>\n",
       "      <td>0</td>\n",
       "      <td>0</td>\n",
       "      <td>1</td>\n",
       "      <td>3</td>\n",
       "      <td>0</td>\n",
       "      <td>0</td>\n",
       "      <td>0</td>\n",
       "      <td>3</td>\n",
       "      <td>3</td>\n",
       "      <td>4</td>\n",
       "    </tr>\n",
       "    <tr>\n",
       "      <th>5</th>\n",
       "      <td>0</td>\n",
       "      <td>0</td>\n",
       "      <td>0</td>\n",
       "      <td>0</td>\n",
       "      <td>0</td>\n",
       "      <td>0</td>\n",
       "      <td>1</td>\n",
       "      <td>0</td>\n",
       "      <td>1</td>\n",
       "      <td>1</td>\n",
       "      <td>0</td>\n",
       "    </tr>\n",
       "    <tr>\n",
       "      <th>6</th>\n",
       "      <td>0</td>\n",
       "      <td>0</td>\n",
       "      <td>0</td>\n",
       "      <td>0</td>\n",
       "      <td>2</td>\n",
       "      <td>0</td>\n",
       "      <td>2</td>\n",
       "      <td>0</td>\n",
       "      <td>2</td>\n",
       "      <td>2</td>\n",
       "      <td>2</td>\n",
       "    </tr>\n",
       "  </tbody>\n",
       "</table>\n",
       "</div>"
      ],
      "text/plain": [
       "   page_protocol  page_host  api_protocol  api_host  api_path  api_method  \\\n",
       "0              0          0             0         0         1           1   \n",
       "1              0          0             0         0         1           1   \n",
       "2              0          0             0         0         1           1   \n",
       "3              0          0             0         1         3           0   \n",
       "4              0          0             0         1         3           0   \n",
       "5              0          0             0         0         0           0   \n",
       "6              0          0             0         0         2           0   \n",
       "\n",
       "   psm  scope  field_name  field_path  field_sample  \n",
       "0    1      0           0           0             3  \n",
       "1    1      0           0           0             3  \n",
       "2    1      0           0           0             3  \n",
       "3    0      0           3           3             1  \n",
       "4    0      0           3           3             4  \n",
       "5    1      0           1           1             0  \n",
       "6    2      0           2           2             2  "
      ]
     },
     "execution_count": 82,
     "metadata": {},
     "output_type": "execute_result"
    }
   ],
   "source": [
    "X"
   ]
  },
  {
   "cell_type": "markdown",
   "id": "4a5c5e73-aa19-47f6-b1b1-0442b1ce98ca",
   "metadata": {},
   "source": [
    "# Step 2. Convert the data to numerical values"
   ]
  },
  {
   "cell_type": "code",
   "execution_count": null,
   "id": "c13a08c5-83a3-4c7b-9975-0fcabca81272",
   "metadata": {},
   "outputs": [],
   "source": []
  },
  {
   "cell_type": "code",
   "execution_count": 56,
   "id": "b8a3efa6-dd30-4c6d-a667-ce7e21493f8a",
   "metadata": {},
   "outputs": [],
   "source": [
    "feature_tokens = []\n",
    "for col_idx, col in enumerate(categorical):\n",
    "    string_to_int = {val: idx for idx, val in enumerate(categorical_unique_values[col_idx])}\n",
    "    int_to_string = {idx: val for val, idx in string_to_int.items()}\n",
    "    all_tokens = {**string_to_int, **int_to_string}\n",
    "    feature_tokens.append(all_tokens)"
   ]
  },
  {
   "cell_type": "markdown",
   "id": "398d4606-9f09-43ea-9814-bdf1e7d1df63",
   "metadata": {},
   "source": [
    "# Step 3. Create model"
   ]
  },
  {
   "cell_type": "code",
   "execution_count": 48,
   "id": "c3e8a93e-a356-427c-b7ad-1d685137db58",
   "metadata": {},
   "outputs": [],
   "source": [
    "from torch import nn\n",
    "\n",
    "from tab_transformer_pytorch import TabTransformer\n",
    "\n",
    "# Hyperparameters from the original paper\n",
    "params = {\n",
    "    'dim': 32,\n",
    "    'depth': 6,\n",
    "    'heads': 8,\n",
    "    'attn_dropout': 0.1,\n",
    "    'ff_dropout': 0.1,\n",
    "    'mlp_hidden_mults': (4, 2),\n",
    "    'mlp_act': nn.ReLU(inplace=True),  # Can be reused, as this is stateless\n",
    "}\n",
    "\n",
    "\n",
    "model = TabTransformer(\n",
    "    categories = categorical_num_unique_values,\n",
    "    num_continuous = len(numerical),\n",
    "    dim_out = output_dimensions,\n",
    "    # continuous_mean_std = mean_std,\n",
    "    **params,\n",
    ")"
   ]
  },
  {
   "cell_type": "code",
   "execution_count": 49,
   "id": "05edbcfb-80db-4552-b9ad-f3b7868e6af4",
   "metadata": {},
   "outputs": [
    {
     "data": {
      "text/plain": [
       "TabTransformer(\n",
       "  (transformer): Transformer(\n",
       "    (embeds): Embedding(30, 32)\n",
       "    (layers): ModuleList(\n",
       "      (0-5): 6 x ModuleList(\n",
       "        (0): PreNorm(\n",
       "          (norm): LayerNorm((32,), eps=1e-05, elementwise_affine=True)\n",
       "          (fn): Attention(\n",
       "            (to_qkv): Linear(in_features=32, out_features=384, bias=False)\n",
       "            (to_out): Linear(in_features=128, out_features=32, bias=True)\n",
       "            (dropout): Dropout(p=0.1, inplace=False)\n",
       "          )\n",
       "        )\n",
       "        (1): PreNorm(\n",
       "          (norm): LayerNorm((32,), eps=1e-05, elementwise_affine=True)\n",
       "          (fn): FeedForward(\n",
       "            (net): Sequential(\n",
       "              (0): Linear(in_features=32, out_features=256, bias=True)\n",
       "              (1): GEGLU()\n",
       "              (2): Dropout(p=0.1, inplace=False)\n",
       "              (3): Linear(in_features=128, out_features=32, bias=True)\n",
       "            )\n",
       "          )\n",
       "        )\n",
       "      )\n",
       "    )\n",
       "  )\n",
       "  (mlp): MLP(\n",
       "    (mlp): Sequential(\n",
       "      (0): Linear(in_features=352, out_features=176, bias=True)\n",
       "      (1): ReLU(inplace=True)\n",
       "      (2): Linear(in_features=176, out_features=88, bias=True)\n",
       "      (3): ReLU(inplace=True)\n",
       "      (4): Linear(in_features=88, out_features=3, bias=True)\n",
       "    )\n",
       "  )\n",
       ")"
      ]
     },
     "execution_count": 49,
     "metadata": {},
     "output_type": "execute_result"
    }
   ],
   "source": [
    "model"
   ]
  },
  {
   "cell_type": "code",
   "execution_count": null,
   "id": "e14cf6ee-46fd-4c9a-9428-73a9e6594764",
   "metadata": {},
   "outputs": [],
   "source": []
  }
 ],
 "metadata": {
  "kernelspec": {
   "display_name": "Python 3 (ipykernel)",
   "language": "python",
   "name": "python3"
  },
  "language_info": {
   "codemirror_mode": {
    "name": "ipython",
    "version": 3
   },
   "file_extension": ".py",
   "mimetype": "text/x-python",
   "name": "python",
   "nbconvert_exporter": "python",
   "pygments_lexer": "ipython3",
   "version": "3.11.4"
  }
 },
 "nbformat": 4,
 "nbformat_minor": 5
}
