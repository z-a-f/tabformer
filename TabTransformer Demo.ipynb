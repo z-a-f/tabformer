{
 "cells": [
  {
   "cell_type": "code",
   "execution_count": 1,
   "id": "62705e7c-2592-4528-8b97-87c128601005",
   "metadata": {},
   "outputs": [],
   "source": [
    "data_csv = '''\n",
    "page_protocol,page_host,api_protocol,api_host,api_path,api_method,psm,scope,field_name,field_path,field_sample,data_type_name\n",
    "https,market-au.example.com,https,market-au.example.com,/api/v1/product/prohibited/words/check,post,oec.product.product_api,query,browser_language,browser_language,en-US,Language\n",
    "https,market-au.example.com,https,market-au.example.com,/api/v1/product/prohibited/words/check,post,oec.product.product_api,query,browser_language,browser_language,en-US,Language\n",
    "https,market-au.example.com,https,market-au.example.com,/api/v1/product/prohibited/words/check,post,oec.product.product_api,query,browser_language,browser_language,en-US,Language\n",
    "https,market-au.example.com,https,open-api.example.com,/v0/oauth/check_qr,get,abcd.openapi.gateway,query,token,token,abcd_aueast3,Account Setting\n",
    "https,market-au.example.com,https,open-api.example.com,/v0/oauth/check_qr,get,abcd.openapi.gateway,query,token,token,wxyz_aueast3,Account Setting\n",
    "https,market-au.example.com,https,market-au.example.com,/api/v1/product/list/seller/warehouses,get,oec.product.product_api,query,browser_version,browser_version,5.0%20%28Windows%20NT%2010.0%3B%20Win64%3B%20x64%29%20AppleWebKit%2F537.36%20%28KHTML%2C%20like%20Gecko%29%20Chrome%2F120.0.0.0%20Safari%2F537.36,User Agent\n",
    "https,market-au.example.com,https,market-au.example.com,/api/v1/seller/holiday_mode/list,get,oec.seller.profile_api,query,locale,locale,en,Language\n",
    "'''"
   ]
  },
  {
   "cell_type": "code",
   "execution_count": 2,
   "id": "6ff3d2ee-0502-4438-8e3b-3b09a59f1b32",
   "metadata": {},
   "outputs": [
    {
     "name": "stdout",
     "output_type": "stream",
     "text": [
      "<class 'pandas.core.frame.DataFrame'>\n",
      "RangeIndex: 7 entries, 0 to 6\n",
      "Data columns (total 12 columns):\n",
      " #   Column          Non-Null Count  Dtype \n",
      "---  ------          --------------  ----- \n",
      " 0   page_protocol   7 non-null      object\n",
      " 1   page_host       7 non-null      object\n",
      " 2   api_protocol    7 non-null      object\n",
      " 3   api_host        7 non-null      object\n",
      " 4   api_path        7 non-null      object\n",
      " 5   api_method      7 non-null      object\n",
      " 6   psm             7 non-null      object\n",
      " 7   scope           7 non-null      object\n",
      " 8   field_name      7 non-null      object\n",
      " 9   field_path      7 non-null      object\n",
      " 10  field_sample    7 non-null      object\n",
      " 11  data_type_name  7 non-null      object\n",
      "dtypes: object(12)\n",
      "memory usage: 804.0+ bytes\n"
     ]
    }
   ],
   "source": [
    "import pandas as pd\n",
    "from io import StringIO\n",
    "\n",
    "data = pd.read_csv(StringIO(data_csv))\n",
    "target_column = 'data_type_name'\n",
    "feature_columns = data.columns[data.columns != target_column]\n",
    "target_columns = data.columns[data.columns == target_column]  # Keep this to maintain the DataFrame\n",
    "\n",
    "if len(target_columns) > 1:\n",
    "    raise ValueError(f'Multilabel not implemented yet')\n",
    "\n",
    "data.info()"
   ]
  },
  {
   "cell_type": "markdown",
   "id": "640285f1-5dfe-4121-9b08-4b46de8c56a2",
   "metadata": {},
   "source": [
    "# Step 1. Collect some info\n",
    "\n",
    "TODO: Remove NaN"
   ]
  },
  {
   "cell_type": "code",
   "execution_count": 3,
   "id": "8a7c4c45-12da-4f9b-a25f-beffafdace86",
   "metadata": {},
   "outputs": [],
   "source": [
    "# Collect the statistics for categorical and numerical columns in X\n",
    "# categorical = data[feature_columns].select_dtypes(['category', 'object']).columns\n",
    "categorical = data.select_dtypes(['category', 'object']).columns\n",
    "numerical = data.columns[~data.columns.isin(categorical)]\n",
    "data[categorical] = data[categorical].astype('category')\n",
    "\n",
    "target_column_dtype = data[target_columns[0]].dtype  # Only a single target for now\n",
    "if target_column_dtype in ('object', 'category'):\n",
    "    # Classification\n",
    "    output_dimensions = len(target_column_dtype.categories)\n",
    "    if output_dimensions == 2:\n",
    "        output_dimensions = 1  # Binary classification can be done with a single output\n",
    "else:\n",
    "    # Regression\n",
    "    output_dimensions = 1"
   ]
  },
  {
   "cell_type": "markdown",
   "id": "4a5c5e73-aa19-47f6-b1b1-0442b1ce98ca",
   "metadata": {},
   "source": [
    "# Step 2. Convert the data to numerical values"
   ]
  },
  {
   "cell_type": "code",
   "execution_count": 4,
   "id": "f0877b00-1378-4e03-a9ee-01842108a663",
   "metadata": {},
   "outputs": [],
   "source": [
    "# Create the X, y data\n",
    "Xy = data.copy()\n",
    "Xy[categorical] = Xy[categorical].apply(lambda column: column.cat.codes)\n",
    "\n",
    "X = Xy[feature_columns]\n",
    "y = Xy[target_columns]\n",
    "\n",
    "X_num_categorical = [len(X[column].unique()) for column in categorical if column not in target_columns]"
   ]
  },
  {
   "cell_type": "code",
   "execution_count": 5,
   "id": "9e0778b9-6ccc-4df2-b52c-9781c469c55c",
   "metadata": {},
   "outputs": [],
   "source": [
    "# Split numerical and categorical inputs\n",
    "X_cat = X[categorical.intersection(feature_columns)]\n",
    "X_num = X[numerical.intersection(feature_columns)]"
   ]
  },
  {
   "cell_type": "code",
   "execution_count": 6,
   "id": "cab324b9-88a4-4635-a0db-440a1482b5b5",
   "metadata": {},
   "outputs": [
    {
     "name": "stdout",
     "output_type": "stream",
     "text": [
      "torch.Size([7, 11]) torch.Size([7, 0]) torch.Size([7, 1])\n"
     ]
    }
   ],
   "source": [
    "import torch\n",
    "\n",
    "X_cat_tensor = torch.tensor(X_cat.values, dtype=torch.long)\n",
    "X_num_tensor = torch.tensor(X_num.values, dtype=torch.float32)\n",
    "y_tensor = torch.tensor(y.values, dtype=torch.long)\n",
    "\n",
    "print(X_cat_tensor.shape, X_num_tensor.shape, y_tensor.shape)"
   ]
  },
  {
   "cell_type": "code",
   "execution_count": 7,
   "id": "0e374b5e-e34c-4cf8-82d4-60a7e472827b",
   "metadata": {},
   "outputs": [
    {
     "data": {
      "text/plain": [
       "tensor([[0, 0, 0, 0, 1, 1, 1, 0, 0, 0, 3],\n",
       "        [0, 0, 0, 0, 1, 1, 1, 0, 0, 0, 3],\n",
       "        [0, 0, 0, 0, 1, 1, 1, 0, 0, 0, 3],\n",
       "        [0, 0, 0, 1, 3, 0, 0, 0, 3, 3, 1],\n",
       "        [0, 0, 0, 1, 3, 0, 0, 0, 3, 3, 4],\n",
       "        [0, 0, 0, 0, 0, 0, 1, 0, 1, 1, 0],\n",
       "        [0, 0, 0, 0, 2, 0, 2, 0, 2, 2, 2]])"
      ]
     },
     "execution_count": 7,
     "metadata": {},
     "output_type": "execute_result"
    }
   ],
   "source": [
    "X_cat_tensor"
   ]
  },
  {
   "cell_type": "markdown",
   "id": "398d4606-9f09-43ea-9814-bdf1e7d1df63",
   "metadata": {},
   "source": [
    "# Step 3. Create model"
   ]
  },
  {
   "cell_type": "code",
   "execution_count": 8,
   "id": "c3e8a93e-a356-427c-b7ad-1d685137db58",
   "metadata": {},
   "outputs": [
    {
     "ename": "TypeError",
     "evalue": "TabTransformer.__init__() got an unexpected keyword argument 'use_shared_categ_embed'",
     "output_type": "error",
     "traceback": [
      "\u001b[0;31m---------------------------------------------------------------------------\u001b[0m",
      "\u001b[0;31mTypeError\u001b[0m                                 Traceback (most recent call last)",
      "Cell \u001b[0;32mIn[8], line 18\u001b[0m\n\u001b[1;32m      5\u001b[0m \u001b[38;5;66;03m# Hyperparameters from the original paper\u001b[39;00m\n\u001b[1;32m      6\u001b[0m params \u001b[38;5;241m=\u001b[39m {\n\u001b[1;32m      7\u001b[0m     \u001b[38;5;124m'\u001b[39m\u001b[38;5;124mdim\u001b[39m\u001b[38;5;124m'\u001b[39m: \u001b[38;5;241m32\u001b[39m,\n\u001b[1;32m      8\u001b[0m     \u001b[38;5;124m'\u001b[39m\u001b[38;5;124mdepth\u001b[39m\u001b[38;5;124m'\u001b[39m: \u001b[38;5;241m6\u001b[39m,\n\u001b[0;32m   (...)\u001b[0m\n\u001b[1;32m     14\u001b[0m     \u001b[38;5;124m'\u001b[39m\u001b[38;5;124muse_shared_categ_embed\u001b[39m\u001b[38;5;124m'\u001b[39m: \u001b[38;5;28;01mTrue\u001b[39;00m,\n\u001b[1;32m     15\u001b[0m }\n\u001b[0;32m---> 18\u001b[0m model \u001b[38;5;241m=\u001b[39m \u001b[43mTabTransformer\u001b[49m\u001b[43m(\u001b[49m\n\u001b[1;32m     19\u001b[0m \u001b[43m    \u001b[49m\u001b[43mcategories\u001b[49m\u001b[43m \u001b[49m\u001b[38;5;241;43m=\u001b[39;49m\u001b[43m \u001b[49m\u001b[43mX_num_categorical\u001b[49m\u001b[43m,\u001b[49m\n\u001b[1;32m     20\u001b[0m \u001b[43m    \u001b[49m\u001b[43mnum_continuous\u001b[49m\u001b[43m \u001b[49m\u001b[38;5;241;43m=\u001b[39;49m\u001b[43m \u001b[49m\u001b[38;5;28;43mlen\u001b[39;49m\u001b[43m(\u001b[49m\u001b[43mnumerical\u001b[49m\u001b[43m)\u001b[49m\u001b[43m,\u001b[49m\n\u001b[1;32m     21\u001b[0m \u001b[43m    \u001b[49m\u001b[43mdim_out\u001b[49m\u001b[43m \u001b[49m\u001b[38;5;241;43m=\u001b[39;49m\u001b[43m \u001b[49m\u001b[43moutput_dimensions\u001b[49m\u001b[43m,\u001b[49m\n\u001b[1;32m     22\u001b[0m \u001b[43m    \u001b[49m\u001b[38;5;66;43;03m# continuous_mean_std = mean_std,\u001b[39;49;00m\n\u001b[1;32m     23\u001b[0m \u001b[43m    \u001b[49m\u001b[38;5;241;43m*\u001b[39;49m\u001b[38;5;241;43m*\u001b[39;49m\u001b[43mparams\u001b[49m\u001b[43m,\u001b[49m\n\u001b[1;32m     24\u001b[0m \u001b[43m)\u001b[49m\n\u001b[1;32m     26\u001b[0m model\n",
      "\u001b[0;31mTypeError\u001b[0m: TabTransformer.__init__() got an unexpected keyword argument 'use_shared_categ_embed'"
     ]
    }
   ],
   "source": [
    "from torch import nn\n",
    "\n",
    "from tab_transformer_pytorch import TabTransformer\n",
    "\n",
    "# Hyperparameters from the original paper\n",
    "params = {\n",
    "    'dim': 32,\n",
    "    'depth': 6,\n",
    "    'heads': 8,\n",
    "    'attn_dropout': 0.1,\n",
    "    'ff_dropout': 0.1,\n",
    "    'mlp_hidden_mults': (4, 2),\n",
    "    'mlp_act': nn.ReLU(),  # Can be reused, as this is stateless\n",
    "    'use_shared_categ_embed': True,\n",
    "}\n",
    "\n",
    "\n",
    "model = TabTransformer(\n",
    "    categories = X_num_categorical,\n",
    "    num_continuous = len(numerical),\n",
    "    dim_out = output_dimensions,\n",
    "    # continuous_mean_std = mean_std,\n",
    "    **params,\n",
    ")\n",
    "\n",
    "model"
   ]
  },
  {
   "cell_type": "markdown",
   "id": "1e52ec90-ae36-4b21-8a5d-bc0e03fc5373",
   "metadata": {},
   "source": [
    "# Step 4. Train the model\n",
    "\n",
    "**Note** We will be doing the supervised learning instead of unsupervised."
   ]
  },
  {
   "cell_type": "code",
   "execution_count": null,
   "id": "e14cf6ee-46fd-4c9a-9428-73a9e6594764",
   "metadata": {},
   "outputs": [],
   "source": [
    "model(X_cat_tensor, X_num_tensor)"
   ]
  },
  {
   "cell_type": "code",
   "execution_count": null,
   "id": "c8b74630-774b-4dd7-be98-de1f80fbbda8",
   "metadata": {},
   "outputs": [],
   "source": [
    "model.use_shared_categ_embed"
   ]
  },
  {
   "cell_type": "code",
   "execution_count": null,
   "id": "4f079ec2-7137-4d11-90e2-f2ecfabf9834",
   "metadata": {},
   "outputs": [],
   "source": [
    "type(model)"
   ]
  }
 ],
 "metadata": {
  "kernelspec": {
   "display_name": "Python 3 (ipykernel)",
   "language": "python",
   "name": "python3"
  },
  "language_info": {
   "codemirror_mode": {
    "name": "ipython",
    "version": 3
   },
   "file_extension": ".py",
   "mimetype": "text/x-python",
   "name": "python",
   "nbconvert_exporter": "python",
   "pygments_lexer": "ipython3",
   "version": "3.11.4"
  }
 },
 "nbformat": 4,
 "nbformat_minor": 5
}
